{
 "cells": [
  {
   "cell_type": "code",
   "execution_count": 36,
   "metadata": {},
   "outputs": [],
   "source": [
    "import pandas as pd\n",
    "import json\n",
    "import matplotlib.pyplot as plt\n",
    "import os\n",
    "import psutil\n",
    "import src.read_datasets as rd\n",
    "import importlib"
   ]
  },
  {
   "cell_type": "code",
   "execution_count": 34,
   "metadata": {},
   "outputs": [
    {
     "name": "stdout",
     "output_type": "stream",
     "text": [
      "File size: 1577.5588073730469 MB\n"
     ]
    }
   ],
   "source": [
    "file_path_1 = 'data/data_raw/AskFeminists_comments'\n",
    "file_size = os.path.getsize(file_path_1)\n",
    "print(f\"File size: {file_size / (1024 * 1024)} MB\")"
   ]
  },
  {
   "cell_type": "code",
   "execution_count": 16,
   "metadata": {},
   "outputs": [
    {
     "name": "stdout",
     "output_type": "stream",
     "text": [
      "File size: 100.73707389831543 MB\n"
     ]
    }
   ],
   "source": [
    "file_path_2 = \"data/data_raw/antifeminists_submissions\"\n",
    "file_path_3 = \"data/data_raw/AskFeminists_submissions\"\n",
    "file_size = os.path.getsize(file_path_2)    \n",
    "print(f\"File size: {file_size / (1024 * 1024)} MB\")"
   ]
  },
  {
   "cell_type": "code",
   "execution_count": 6,
   "metadata": {},
   "outputs": [
    {
     "name": "stdout",
     "output_type": "stream",
     "text": [
      "Number of CPU cores (os module): 8\n",
      "Number of CPU cores (multiprocessing module): 8\n"
     ]
    }
   ],
   "source": [
    "import os\n",
    "import multiprocessing\n",
    "\n",
    "# Using os module\n",
    "num_cores_os = os.cpu_count()\n",
    "print(f\"Number of CPU cores (os module): {num_cores_os}\")\n",
    "\n",
    "# Using multiprocessing module\n",
    "num_cores_mp = multiprocessing.cpu_count()\n",
    "print(f\"Number of CPU cores (multiprocessing module): {num_cores_mp}\")"
   ]
  },
  {
   "cell_type": "code",
   "execution_count": 35,
   "metadata": {},
   "outputs": [
    {
     "name": "stdout",
     "output_type": "stream",
     "text": [
      "Processed chunk size: (1290, 7)\n",
      "Processed chunk size: (1371, 7)\n",
      "Processed chunk size: (1391, 7)\n",
      "Processed chunk size: (1034, 7)\n",
      "Processed chunk size: (1547, 7)\n",
      "Processed chunk size: (1406, 7)\n",
      "Processed chunk size: (1623, 7)\n",
      "Processed chunk size: (2029, 7)\n",
      "Processed chunk size: (2243, 7)\n",
      "Processed chunk size: (2274, 7)\n",
      "Processed chunk size: (2485, 7)\n",
      "Processed chunk size: (2430, 7)\n",
      "Processed chunk size: (2622, 7)\n",
      "Processed chunk size: (2417, 7)\n",
      "Processed chunk size: (2240, 7)\n",
      "Processed chunk size: (1993, 7)\n",
      "Processed chunk size: (2273, 7)\n",
      "Processed chunk size: (1994, 6)\n",
      "Processed chunk size: (1954, 6)\n",
      "Processed chunk size: (1682, 6)\n",
      "Processed chunk size: (1913, 6)\n",
      "Processed chunk size: (1844, 6)\n",
      "Processed chunk size: (1861, 6)\n",
      "Processed chunk size: (1936, 6)\n",
      "Processed chunk size: (1930, 6)\n",
      "Processed chunk size: (1716, 6)\n",
      "Processed chunk size: (1276, 6)\n",
      "Processed chunk size: (1727, 6)\n",
      "Processed chunk size: (1438, 6)\n",
      "Processed chunk size: (1448, 6)\n",
      "Processed chunk size: (1445, 6)\n",
      "Processed chunk size: (1459, 6)\n",
      "Processed chunk size: (1554, 6)\n",
      "Processed chunk size: (1618, 6)\n",
      "Processed chunk size: (1583, 6)\n",
      "Processed chunk size: (1457, 6)\n",
      "Processed chunk size: (1586, 6)\n",
      "Processed chunk size: (1405, 6)\n",
      "Processed chunk size: (1458, 6)\n",
      "Processed chunk size: (1551, 6)\n",
      "Processed chunk size: (1552, 6)\n",
      "Processed chunk size: (1689, 6)\n",
      "Processed chunk size: (1773, 6)\n",
      "Processed chunk size: (2022, 6)\n",
      "Processed chunk size: (1800, 6)\n",
      "Processed chunk size: (2088, 6)\n",
      "Processed chunk size: (2017, 6)\n",
      "Processed chunk size: (1746, 6)\n",
      "Processed chunk size: (2011, 6)\n",
      "Processed chunk size: (1966, 6)\n",
      "Processed chunk size: (2182, 6)\n",
      "Processed chunk size: (1985, 6)\n",
      "Processed chunk size: (2045, 6)\n",
      "Processed chunk size: (2104, 6)\n",
      "Processed chunk size: (2102, 6)\n",
      "Processed chunk size: (2236, 6)\n",
      "Processed chunk size: (2121, 6)\n",
      "Processed chunk size: (2237, 6)\n",
      "Processed chunk size: (2139, 6)\n",
      "Processed chunk size: (2131, 6)\n",
      "Processed chunk size: (2157, 6)\n",
      "Processed chunk size: (2333, 6)\n",
      "Processed chunk size: (2333, 6)\n",
      "Processed chunk size: (2076, 6)\n",
      "Processed chunk size: (2062, 6)\n",
      "Processed chunk size: (2275, 6)\n",
      "Processed chunk size: (1919, 6)\n",
      "Processed chunk size: (2450, 6)\n",
      "Processed chunk size: (2140, 6)\n",
      "Processed chunk size: (2108, 6)\n",
      "Processed chunk size: (2052, 6)\n",
      "Processed chunk size: (2080, 6)\n",
      "Processed chunk size: (2280, 6)\n",
      "Processed chunk size: (2217, 6)\n",
      "Processed chunk size: (2232, 6)\n",
      "Processed chunk size: (2161, 6)\n",
      "Processed chunk size: (2203, 6)\n",
      "Processed chunk size: (2336, 6)\n",
      "Processed chunk size: (2301, 6)\n",
      "Processed chunk size: (2454, 7)\n",
      "Processed chunk size: (2320, 7)\n",
      "Processed chunk size: (2473, 7)\n",
      "Processed chunk size: (2380, 7)\n",
      "Processed chunk size: (2247, 7)\n",
      "Processed chunk size: (2208, 7)\n",
      "Processed chunk size: (2136, 7)\n",
      "Processed chunk size: (2515, 7)\n",
      "Processed chunk size: (2176, 7)\n",
      "Processed chunk size: (2072, 7)\n",
      "Processed chunk size: (2017, 7)\n",
      "Processed chunk size: (2109, 7)\n",
      "Processed chunk size: (2244, 7)\n",
      "Processed chunk size: (2236, 7)\n",
      "Processed chunk size: (2240, 7)\n",
      "Processed chunk size: (2218, 7)\n",
      "Processed chunk size: (1982, 7)\n",
      "Processed chunk size: (2083, 7)\n",
      "Processed chunk size: (1771, 7)\n",
      "Processed chunk size: (1877, 7)\n",
      "Processed chunk size: (2020, 7)\n",
      "Processed chunk size: (1652, 7)\n",
      "Processed chunk size: (1870, 7)\n",
      "Processed chunk size: (2019, 7)\n",
      "Processed chunk size: (1976, 7)\n",
      "Processed chunk size: (1944, 7)\n",
      "Processed chunk size: (2011, 7)\n",
      "Processed chunk size: (1667, 7)\n",
      "Processed chunk size: (1543, 7)\n",
      "Processed chunk size: (1857, 7)\n",
      "Processed chunk size: (1858, 7)\n",
      "Processed chunk size: (1984, 7)\n",
      "Processed chunk size: (2012, 7)\n",
      "Processed chunk size: (2131, 7)\n",
      "Processed chunk size: (2257, 7)\n",
      "Processed chunk size: (2337, 7)\n",
      "Processed chunk size: (2044, 7)\n",
      "Processed chunk size: (2162, 7)\n",
      "Processed chunk size: (2292, 7)\n",
      "Processed chunk size: (2126, 7)\n",
      "Processed chunk size: (2197, 7)\n",
      "Processed chunk size: (1941, 7)\n",
      "Processed chunk size: (2221, 7)\n",
      "Processed chunk size: (2130, 7)\n",
      "Processed chunk size: (1388, 7)\n",
      "Final DataFrame size: (245561, 7)\n"
     ]
    }
   ],
   "source": [
    "\n",
    "# Create DataFrame for the second file\n",
    "df2 = rd.create_dataframe(file_path_1)\n"
   ]
  },
  {
   "cell_type": "code",
   "execution_count": 45,
   "metadata": {},
   "outputs": [
    {
     "name": "stdout",
     "output_type": "stream",
     "text": [
      "Initial chunk size: (10000, 7)\n",
      "Processed chunk size: (1578, 7)\n",
      "Initial chunk size: (10000, 7)\n",
      "Processed chunk size: (1463, 7)\n",
      "Initial chunk size: (2216, 7)\n",
      "Processed chunk size: (334, 7)\n",
      "Final DataFrame size: (3375, 7)\n"
     ]
    }
   ],
   "source": [
    "importlib.reload(rd)\n",
    "df3 = rd.create_dataframe(file_path_2)\t"
   ]
  },
  {
   "cell_type": "code",
   "execution_count": 46,
   "metadata": {},
   "outputs": [
    {
     "data": {
      "text/html": [
       "<div>\n",
       "<style scoped>\n",
       "    .dataframe tbody tr th:only-of-type {\n",
       "        vertical-align: middle;\n",
       "    }\n",
       "\n",
       "    .dataframe tbody tr th {\n",
       "        vertical-align: top;\n",
       "    }\n",
       "\n",
       "    .dataframe thead th {\n",
       "        text-align: right;\n",
       "    }\n",
       "</style>\n",
       "<table border=\"1\" class=\"dataframe\">\n",
       "  <thead>\n",
       "    <tr style=\"text-align: right;\">\n",
       "      <th></th>\n",
       "      <th>created_utc</th>\n",
       "      <th>title</th>\n",
       "      <th>body</th>\n",
       "      <th>author</th>\n",
       "      <th>subreddit</th>\n",
       "      <th>is_self</th>\n",
       "      <th>id</th>\n",
       "    </tr>\n",
       "  </thead>\n",
       "  <tbody>\n",
       "    <tr>\n",
       "      <th>0</th>\n",
       "      <td>1417572354</td>\n",
       "      <td>antifeminist experiment</td>\n",
       "      <td>Hi!\\nI thought it would be interesting to have...</td>\n",
       "      <td>[deleted]</td>\n",
       "      <td>antifeminists</td>\n",
       "      <td>True</td>\n",
       "      <td>2o40i6</td>\n",
       "    </tr>\n",
       "    <tr>\n",
       "      <th>1</th>\n",
       "      <td>1418496647</td>\n",
       "      <td>How I advanced women yesterday</td>\n",
       "      <td>Yesterday, as part of my duties as a tech supp...</td>\n",
       "      <td>[deleted]</td>\n",
       "      <td>antifeminists</td>\n",
       "      <td>True</td>\n",
       "      <td>2p6wpf</td>\n",
       "    </tr>\n",
       "    <tr>\n",
       "      <th>2</th>\n",
       "      <td>1420494560</td>\n",
       "      <td>I Am Writing an Anti-Feminist Argumentative Es...</td>\n",
       "      <td>School is out, and I am so bored. Writing rese...</td>\n",
       "      <td>SackOfHellNo</td>\n",
       "      <td>antifeminists</td>\n",
       "      <td>True</td>\n",
       "      <td>2rfyxx</td>\n",
       "    </tr>\n",
       "    <tr>\n",
       "      <th>3</th>\n",
       "      <td>1429473417</td>\n",
       "      <td>Good job feminism. This shows one of the stupi...</td>\n",
       "      <td>\\n\\n\\nSource: https://www.google.no/search?sit...</td>\n",
       "      <td>[deleted]</td>\n",
       "      <td>antifeminists</td>\n",
       "      <td>True</td>\n",
       "      <td>335nfs</td>\n",
       "    </tr>\n",
       "    <tr>\n",
       "      <th>4</th>\n",
       "      <td>1429974239</td>\n",
       "      <td>The Matrix of Anti-Sexual Feminism</td>\n",
       "      <td>I'm sure this has been discussed somewhere in ...</td>\n",
       "      <td>[deleted]</td>\n",
       "      <td>antifeminists</td>\n",
       "      <td>True</td>\n",
       "      <td>33tob1</td>\n",
       "    </tr>\n",
       "  </tbody>\n",
       "</table>\n",
       "</div>"
      ],
      "text/plain": [
       "  created_utc                                              title  \\\n",
       "0  1417572354                            antifeminist experiment   \n",
       "1  1418496647                     How I advanced women yesterday   \n",
       "2  1420494560  I Am Writing an Anti-Feminist Argumentative Es...   \n",
       "3  1429473417  Good job feminism. This shows one of the stupi...   \n",
       "4  1429974239                 The Matrix of Anti-Sexual Feminism   \n",
       "\n",
       "                                                body        author  \\\n",
       "0  Hi!\\nI thought it would be interesting to have...     [deleted]   \n",
       "1  Yesterday, as part of my duties as a tech supp...     [deleted]   \n",
       "2  School is out, and I am so bored. Writing rese...  SackOfHellNo   \n",
       "3  \\n\\n\\nSource: https://www.google.no/search?sit...     [deleted]   \n",
       "4  I'm sure this has been discussed somewhere in ...     [deleted]   \n",
       "\n",
       "       subreddit  is_self      id  \n",
       "0  antifeminists     True  2o40i6  \n",
       "1  antifeminists     True  2p6wpf  \n",
       "2  antifeminists     True  2rfyxx  \n",
       "3  antifeminists     True  335nfs  \n",
       "4  antifeminists     True  33tob1  "
      ]
     },
     "execution_count": 46,
     "metadata": {},
     "output_type": "execute_result"
    }
   ],
   "source": [
    "df3.head()"
   ]
  },
  {
   "cell_type": "markdown",
   "metadata": {},
   "source": [
    "### Some dataset exploration:"
   ]
  },
  {
   "cell_type": "code",
   "execution_count": 51,
   "metadata": {},
   "outputs": [
    {
     "name": "stdout",
     "output_type": "stream",
     "text": [
      "Max length of comments: 34437\n",
      "Min length of comments: 3\n",
      "Duplicate comments count: 1\n",
      "sneak peak into the duplicate comments: 1579    https://youtu.be/uD773RYUH7U\n",
      "Name: body, dtype: object\n",
      "Unique duplicates count: 1\n",
      "count     3372.000000\n",
      "mean       862.167556\n",
      "std       1684.362344\n",
      "min          3.000000\n",
      "25%        166.750000\n",
      "50%        391.000000\n",
      "75%        839.250000\n",
      "max      34437.000000\n",
      "Name: body, dtype: float64\n"
     ]
    },
    {
     "data": {
      "image/png": "[encoded data removed]",
      "text/plain": [
       "<Figure size 640x480 with 1 Axes>"
      ]
     },
     "metadata": {},
     "output_type": "display_data"
    },
    {
     "name": "stdout",
     "output_type": "stream",
     "text": [
      "Memory usage after processing: 78.1%\n"
     ]
    }
   ],
   "source": [
    "if not df3.empty:\n",
    "    df = df3\n",
    "    # drop comments with len < 2 \n",
    "    df = df[df['body'].str.len() > 2]\n",
    "\n",
    "    # Check for max and min length of comments\n",
    "    max_len = df['body'].str.len().max() if 'body' in df.columns else None\n",
    "    min_len = df['body'].str.len().min() if 'body' in df.columns else None\n",
    "\n",
    "    print(f\"Max length of comments: {max_len}\")\n",
    "    print(f\"Min length of comments: {min_len}\")\n",
    "\n",
    "    # Check for length distribution of comments\n",
    "    if 'body' in df.columns:\n",
    "\n",
    "        # check for duplicate comments\n",
    "        duplicate_comments_count = df.duplicated(subset=['body']).sum()\n",
    "        print(f\"Duplicate comments count: {duplicate_comments_count}\")\n",
    "        print(f\"sneak peak into the duplicate comments: {df[df.duplicated(subset=['body'])]['body'].head()}\")\n",
    "        # how many unique values are in the set of duplicates\n",
    "        unique_duplicates_count = df[df.duplicated(subset=['body'])]['body'].nunique()\n",
    "        print(f\"Unique duplicates count: {unique_duplicates_count}\")\n",
    "\n",
    "        #df2['body'].str.len().hist()\n",
    "        \n",
    "        # give me a summary statistics of the length of the comments\n",
    "        print(df['body'].str.len().describe())\n",
    "\n",
    "        Q1 = df['body'].str.len().quantile(0.25)\n",
    "        Q3 = df['body'].str.len().quantile(0.75)\n",
    "        IQR = Q3 - Q1\n",
    "        upper_bound = Q3 + 1.5 * IQR\n",
    "\n",
    "        filtered_df = df[df['body'].str.len() <= upper_bound]\n",
    "        filtered_df['body'].str.len().hist()\n",
    "\n",
    "        # create a title for the histogram\n",
    "        plt.title('Distribution of the Length of comments')\n",
    "        # create a label for the x-axis\n",
    "        plt.xlabel('Length of comments')\n",
    "        # create a label for the y-axis\n",
    "        plt.ylabel('Frequency')\n",
    "\n",
    "        # Display the histogram\n",
    "        plt.show()\n",
    "else:\n",
    "    print(\"No data to analyze.\")\n",
    "\n",
    "print(f\"Memory usage after processing: {psutil.virtual_memory().percent}%\")"
   ]
  },
  {
   "cell_type": "code",
   "execution_count": 52,
   "metadata": {},
   "outputs": [
    {
     "data": {
      "text/html": [
       "<div>\n",
       "<style scoped>\n",
       "    .dataframe tbody tr th:only-of-type {\n",
       "        vertical-align: middle;\n",
       "    }\n",
       "\n",
       "    .dataframe tbody tr th {\n",
       "        vertical-align: top;\n",
       "    }\n",
       "\n",
       "    .dataframe thead th {\n",
       "        text-align: right;\n",
       "    }\n",
       "</style>\n",
       "<table border=\"1\" class=\"dataframe\">\n",
       "  <thead>\n",
       "    <tr style=\"text-align: right;\">\n",
       "      <th></th>\n",
       "      <th>created_utc</th>\n",
       "      <th>title</th>\n",
       "      <th>body</th>\n",
       "      <th>author</th>\n",
       "      <th>subreddit</th>\n",
       "      <th>is_self</th>\n",
       "      <th>id</th>\n",
       "    </tr>\n",
       "  </thead>\n",
       "  <tbody>\n",
       "    <tr>\n",
       "      <th>0</th>\n",
       "      <td>1417572354</td>\n",
       "      <td>antifeminist experiment</td>\n",
       "      <td>Hi!\\nI thought it would be interesting to have...</td>\n",
       "      <td>[deleted]</td>\n",
       "      <td>antifeminists</td>\n",
       "      <td>True</td>\n",
       "      <td>2o40i6</td>\n",
       "    </tr>\n",
       "    <tr>\n",
       "      <th>1</th>\n",
       "      <td>1418496647</td>\n",
       "      <td>How I advanced women yesterday</td>\n",
       "      <td>Yesterday, as part of my duties as a tech supp...</td>\n",
       "      <td>[deleted]</td>\n",
       "      <td>antifeminists</td>\n",
       "      <td>True</td>\n",
       "      <td>2p6wpf</td>\n",
       "    </tr>\n",
       "    <tr>\n",
       "      <th>2</th>\n",
       "      <td>1420494560</td>\n",
       "      <td>I Am Writing an Anti-Feminist Argumentative Es...</td>\n",
       "      <td>School is out, and I am so bored. Writing rese...</td>\n",
       "      <td>SackOfHellNo</td>\n",
       "      <td>antifeminists</td>\n",
       "      <td>True</td>\n",
       "      <td>2rfyxx</td>\n",
       "    </tr>\n",
       "    <tr>\n",
       "      <th>3</th>\n",
       "      <td>1429473417</td>\n",
       "      <td>Good job feminism. This shows one of the stupi...</td>\n",
       "      <td>\\n\\n\\nSource: https://www.google.no/search?sit...</td>\n",
       "      <td>[deleted]</td>\n",
       "      <td>antifeminists</td>\n",
       "      <td>True</td>\n",
       "      <td>335nfs</td>\n",
       "    </tr>\n",
       "    <tr>\n",
       "      <th>4</th>\n",
       "      <td>1429974239</td>\n",
       "      <td>The Matrix of Anti-Sexual Feminism</td>\n",
       "      <td>I'm sure this has been discussed somewhere in ...</td>\n",
       "      <td>[deleted]</td>\n",
       "      <td>antifeminists</td>\n",
       "      <td>True</td>\n",
       "      <td>33tob1</td>\n",
       "    </tr>\n",
       "  </tbody>\n",
       "</table>\n",
       "</div>"
      ],
      "text/plain": [
       "  created_utc                                              title  \\\n",
       "0  1417572354                            antifeminist experiment   \n",
       "1  1418496647                     How I advanced women yesterday   \n",
       "2  1420494560  I Am Writing an Anti-Feminist Argumentative Es...   \n",
       "3  1429473417  Good job feminism. This shows one of the stupi...   \n",
       "4  1429974239                 The Matrix of Anti-Sexual Feminism   \n",
       "\n",
       "                                                body        author  \\\n",
       "0  Hi!\\nI thought it would be interesting to have...     [deleted]   \n",
       "1  Yesterday, as part of my duties as a tech supp...     [deleted]   \n",
       "2  School is out, and I am so bored. Writing rese...  SackOfHellNo   \n",
       "3  \\n\\n\\nSource: https://www.google.no/search?sit...     [deleted]   \n",
       "4  I'm sure this has been discussed somewhere in ...     [deleted]   \n",
       "\n",
       "       subreddit  is_self      id  \n",
       "0  antifeminists     True  2o40i6  \n",
       "1  antifeminists     True  2p6wpf  \n",
       "2  antifeminists     True  2rfyxx  \n",
       "3  antifeminists     True  335nfs  \n",
       "4  antifeminists     True  33tob1  "
      ]
     },
     "execution_count": 52,
     "metadata": {},
     "output_type": "execute_result"
    }
   ],
   "source": [
    "\n",
    "df3.head()"
   ]
  },
  {
   "cell_type": "markdown",
   "metadata": {},
   "source": [
    "#### Looking into number & length of comments"
   ]
  },
  {
   "cell_type": "markdown",
   "metadata": {},
   "source": [
    "#### Time Distribution"
   ]
  },
  {
   "cell_type": "code",
   "execution_count": 53,
   "metadata": {},
   "outputs": [
    {
     "name": "stderr",
     "output_type": "stream",
     "text": [
      "C:\\Users\\elena\\AppData\\Local\\Temp\\ipykernel_18808\\3846848086.py:4: FutureWarning: The behavior of 'to_datetime' with 'unit' when parsing strings is deprecated. In a future version, strings will be parsed as datetime strings, matching the behavior without a 'unit'. To retain the old behavior, explicitly cast ints or floats to numeric type before calling to_datetime.\n",
      "  df['created_utc'] = pd.to_datetime(df['created_utc'], unit='s')\n"
     ]
    },
    {
     "name": "stdout",
     "output_type": "stream",
     "text": [
      "2014-12-03 02:05:52\n",
      "2022-12-31 16:40:03\n"
     ]
    },
    {
     "data": {
      "image/png": "[encoded data removed]",
      "text/plain": [
       "<Figure size 640x480 with 1 Axes>"
      ]
     },
     "metadata": {},
     "output_type": "display_data"
    }
   ],
   "source": [
    "# check for distribution of comments according to timestamp\n",
    "df = df3\n",
    "\n",
    "df['created_utc'] = pd.to_datetime(df['created_utc'], unit='s')\n",
    "df['created_utc'].hist()\n",
    "\n",
    "# create a title for the histogram\n",
    "plt.title('Distribution of comments according to timestamp')\n",
    "\n",
    "# return the newest and oldest comnments' timestamp and transform timestamp to datetime\n",
    "print(df['created_utc'].min())\n",
    "print(df['created_utc'].max())\n",
    "\n",
    "plt.show()"
   ]
  },
  {
   "cell_type": "markdown",
   "metadata": {},
   "source": [
    "#### Author Distribution"
   ]
  },
  {
   "cell_type": "code",
   "execution_count": 58,
   "metadata": {},
   "outputs": [
    {
     "ename": "ValueError",
     "evalue": "The truth value of a DataFrame is ambiguous. Use a.empty, a.bool(), a.item(), a.any() or a.all().",
     "output_type": "error",
     "traceback": [
      "\u001b[1;31m---------------------------------------------------------------------------\u001b[0m",
      "\u001b[1;31mValueError\u001b[0m                                Traceback (most recent call last)",
      "\u001b[1;32m~\\AppData\\Local\\Temp\\ipykernel_18808\\1391385807.py\u001b[0m in \u001b[0;36m?\u001b[1;34m()\u001b[0m\n\u001b[0;32m      1\u001b[0m \u001b[0mdf\u001b[0m \u001b[1;33m=\u001b[0m \u001b[0mdf3\u001b[0m\u001b[1;33m\u001b[0m\u001b[1;33m\u001b[0m\u001b[0m\n\u001b[0;32m      2\u001b[0m \u001b[1;33m\u001b[0m\u001b[0m\n\u001b[0;32m      3\u001b[0m \u001b[1;31m# show summary statistics of max comments by one author, min comments by one author, and median, exclude author = [deleted]\u001b[0m\u001b[1;33m\u001b[0m\u001b[1;33m\u001b[0m\u001b[0m\n\u001b[1;32m----> 4\u001b[1;33m \u001b[1;32mif\u001b[0m \u001b[0mdf\u001b[0m\u001b[1;33m[\u001b[0m\u001b[0mdf\u001b[0m\u001b[1;33m[\u001b[0m\u001b[1;34m'author'\u001b[0m\u001b[1;33m]\u001b[0m \u001b[1;33m!=\u001b[0m \u001b[1;34m'[deleted]'\u001b[0m\u001b[1;33m]\u001b[0m\u001b[1;33m:\u001b[0m\u001b[1;33m\u001b[0m\u001b[1;33m\u001b[0m\u001b[0m\n\u001b[0m\u001b[0;32m      5\u001b[0m     \u001b[0mdf\u001b[0m\u001b[1;33m[\u001b[0m\u001b[1;34m'author'\u001b[0m\u001b[1;33m]\u001b[0m\u001b[1;33m.\u001b[0m\u001b[0mvalue_counts\u001b[0m\u001b[1;33m(\u001b[0m\u001b[1;33m)\u001b[0m\u001b[1;33m.\u001b[0m\u001b[0mdescribe\u001b[0m\u001b[1;33m(\u001b[0m\u001b[1;33m)\u001b[0m\u001b[1;33m\u001b[0m\u001b[1;33m\u001b[0m\u001b[0m\n\u001b[0;32m      6\u001b[0m     \u001b[1;31m# Show distribution of num of comments per author\u001b[0m\u001b[1;33m\u001b[0m\u001b[1;33m\u001b[0m\u001b[0m\n\u001b[0;32m      7\u001b[0m     \u001b[0mdf\u001b[0m\u001b[1;33m[\u001b[0m\u001b[1;34m'author'\u001b[0m\u001b[1;33m]\u001b[0m\u001b[1;33m.\u001b[0m\u001b[0mvalue_counts\u001b[0m\u001b[1;33m(\u001b[0m\u001b[1;33m)\u001b[0m\u001b[1;33m.\u001b[0m\u001b[0mhist\u001b[0m\u001b[1;33m(\u001b[0m\u001b[1;33m)\u001b[0m\u001b[1;33m\u001b[0m\u001b[1;33m\u001b[0m\u001b[0m\n",
      "\u001b[1;32mc:\\Users\\elena\\anaconda3\\envs\\BA\\Lib\\site-packages\\pandas\\core\\generic.py\u001b[0m in \u001b[0;36m?\u001b[1;34m(self)\u001b[0m\n\u001b[0;32m   1574\u001b[0m     \u001b[1;33m@\u001b[0m\u001b[0mfinal\u001b[0m\u001b[1;33m\u001b[0m\u001b[1;33m\u001b[0m\u001b[0m\n\u001b[0;32m   1575\u001b[0m     \u001b[1;32mdef\u001b[0m \u001b[0m__nonzero__\u001b[0m\u001b[1;33m(\u001b[0m\u001b[0mself\u001b[0m\u001b[1;33m)\u001b[0m \u001b[1;33m->\u001b[0m \u001b[0mNoReturn\u001b[0m\u001b[1;33m:\u001b[0m\u001b[1;33m\u001b[0m\u001b[1;33m\u001b[0m\u001b[0m\n\u001b[1;32m-> 1576\u001b[1;33m         raise ValueError(\n\u001b[0m\u001b[0;32m   1577\u001b[0m             \u001b[1;33mf\"\u001b[0m\u001b[1;33mThe truth value of a \u001b[0m\u001b[1;33m{\u001b[0m\u001b[0mtype\u001b[0m\u001b[1;33m(\u001b[0m\u001b[0mself\u001b[0m\u001b[1;33m)\u001b[0m\u001b[1;33m.\u001b[0m\u001b[0m__name__\u001b[0m\u001b[1;33m}\u001b[0m\u001b[1;33m is ambiguous. \u001b[0m\u001b[1;33m\"\u001b[0m\u001b[1;33m\u001b[0m\u001b[1;33m\u001b[0m\u001b[0m\n\u001b[0;32m   1578\u001b[0m             \u001b[1;34m\"Use a.empty, a.bool(), a.item(), a.any() or a.all().\"\u001b[0m\u001b[1;33m\u001b[0m\u001b[1;33m\u001b[0m\u001b[0m\n\u001b[0;32m   1579\u001b[0m         \u001b[1;33m)\u001b[0m\u001b[1;33m\u001b[0m\u001b[1;33m\u001b[0m\u001b[0m\n",
      "\u001b[1;31mValueError\u001b[0m: The truth value of a DataFrame is ambiguous. Use a.empty, a.bool(), a.item(), a.any() or a.all()."
     ]
    }
   ],
   "source": [
    "df = df3\n",
    "df_filtered = df[df['author'] != '[deleted]']\n",
    "# show summary statistics of max comments by one author, min comments by one author, and median, exclude author = [deleted]\n",
    "if df_filtered.empty:\n",
    "    df['author'].value_counts().describe()\n",
    "    # Show distribution of num of comments per author\n",
    "    df['author'].value_counts().hist()\n",
    "    plt.show()\n",
    "\n",
    "# get the top 10 authors with the most comments and their comment counts\n",
    "df['author'].value_counts().head(10)\n",
    "\n",
    "# check if the body of the author called \"[deleted]\" is the same as the author name or empty\n",
    "# df[df['author'] == '[deleted]']\n"
   ]
  },
  {
   "cell_type": "code",
   "execution_count": null,
   "metadata": {},
   "outputs": [],
   "source": [
    "# How many comments per author are in the dataset\n",
    "grouped = df2.groupby(\"author\").count().sort_values(\"body\", ascending=False)\n",
    "\n",
    "grouped_deleted = df2[(df2[\"author\"] == \"[deleted]\")]\n",
    "\n",
    "grouped"
   ]
  }
 ],
 "metadata": {
  "kernelspec": {
   "display_name": "BA",
   "language": "python",
   "name": "python3"
  },
  "language_info": {
   "codemirror_mode": {
    "name": "ipython",
    "version": 3
   },
   "file_extension": ".py",
   "mimetype": "text/x-python",
   "name": "python",
   "nbconvert_exporter": "python",
   "pygments_lexer": "ipython3",
   "version": "3.12.3"
  }
 },
 "nbformat": 4,
 "nbformat_minor": 2
}

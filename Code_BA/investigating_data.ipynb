{
 "cells": [
  {
   "cell_type": "code",
   "execution_count": 1,
   "metadata": {},
   "outputs": [],
   "source": [
    "import pandas as pd\n",
    "import json\n",
    "import matplotlib.pyplot as plt\n",
    "import os\n",
    "import psutil\n",
    "import src.read_datasets as rd\n",
    "import importlib\n",
    "import csv"
   ]
  },
  {
   "cell_type": "code",
   "execution_count": 7,
   "metadata": {},
   "outputs": [
    {
     "name": "stdout",
     "output_type": "stream",
     "text": [
      "File size: 7099.7816553115845 MB\n"
     ]
    }
   ],
   "source": [
    "file_path = 'data/data_processed/right/moderate-rightleaning.csv'\n",
    "file_size = os.path.getsize(file_path)\n",
    "print(f\"File size: {file_size / (1024 * 1024)} MB\")"
   ]
  },
  {
   "cell_type": "code",
   "execution_count": 8,
   "metadata": {},
   "outputs": [
    {
     "name": "stdout",
     "output_type": "stream",
     "text": [
      "Total lines: 100435180\n",
      "Lines with exactly 10 words: 100435180\n",
      "All lines have exactly 10 words in data/data_processed/moderate left-leaning.csv\n"
     ]
    }
   ],
   "source": [
    "csv.field_size_limit(10**6)\n",
    "total_lines = 0\n",
    "valid_lines = 0\n",
    "\n",
    "with open(file_path, 'r', encoding='utf-8') as csvfile:\n",
    "    reader = csv.reader(csvfile)\n",
    "    for line in reader:\n",
    "        total_lines += 1\n",
    "        if len(line) == 10:\n",
    "            valid_lines += 1\n",
    "\n",
    "print(f\"Total lines: {total_lines}\")\n",
    "print(f\"Lines with exactly 10 words: {valid_lines}\")\n",
    "if total_lines == valid_lines:\n",
    "    print(f\"All lines have exactly 10 words in {file_path}\")\n",
    "else:\n",
    "    print(f\"Some lines do not have exactly 10 words in {file_path}\")"
   ]
  },
  {
   "cell_type": "code",
   "execution_count": 3,
   "metadata": {},
   "outputs": [
    {
     "name": "stdout",
     "output_type": "stream",
     "text": [
      "Number of CPU cores (os module): 8\n",
      "Number of CPU cores (multiprocessing module): 8\n"
     ]
    }
   ],
   "source": [
    "import os\n",
    "import multiprocessing\n",
    "\n",
    "# Using os module\n",
    "num_cores_os = os.cpu_count()\n",
    "print(f\"Number of CPU cores (os module): {num_cores_os}\")\n",
    "\n",
    "# Using multiprocessing module\n",
    "num_cores_mp = multiprocessing.cpu_count()\n",
    "print(f\"Number of CPU cores (multiprocessing module): {num_cores_mp}\")"
   ]
  },
  {
   "cell_type": "code",
   "execution_count": 4,
   "metadata": {},
   "outputs": [
    {
     "ename": "JSONDecodeError",
     "evalue": "Expecting value: line 1 column 1 (char 0)",
     "output_type": "error",
     "traceback": [
      "\u001b[1;31m---------------------------------------------------------------------------\u001b[0m",
      "\u001b[1;31mJSONDecodeError\u001b[0m                           Traceback (most recent call last)",
      "Cell \u001b[1;32mIn[4], line 2\u001b[0m\n\u001b[0;32m      1\u001b[0m \u001b[38;5;66;03m# Create DataFrame for the second file\u001b[39;00m\n\u001b[1;32m----> 2\u001b[0m df2 \u001b[38;5;241m=\u001b[39m \u001b[43mrd\u001b[49m\u001b[38;5;241;43m.\u001b[39;49m\u001b[43mcreate_dataframe\u001b[49m\u001b[43m(\u001b[49m\u001b[43mfile_path_1\u001b[49m\u001b[43m)\u001b[49m\n",
      "File \u001b[1;32mc:\\Users\\elena\\OneDrive\\Dokumente\\Cognitive Science\\Bewerbungen\\8. Semester\\BA\\Dis-EmbeddingConnotations\\Code_BA\\src\\read_datasets.py:119\u001b[0m, in \u001b[0;36mcreate_dataframe\u001b[1;34m(file_path)\u001b[0m\n\u001b[0;32m    109\u001b[0m \u001b[38;5;250m\u001b[39m\u001b[38;5;124;03m\"\"\"\u001b[39;00m\n\u001b[0;32m    110\u001b[0m \u001b[38;5;124;03mReads a file in chunks, processes each chunk, and concatenates the processed chunks into a single DataFrame.\u001b[39;00m\n\u001b[0;32m    111\u001b[0m \u001b[38;5;124;03m\u001b[39;00m\n\u001b[1;32m   (...)\u001b[0m\n\u001b[0;32m    116\u001b[0m \u001b[38;5;124;03mDataFrame: The final concatenated DataFrame after processing all chunks.\u001b[39;00m\n\u001b[0;32m    117\u001b[0m \u001b[38;5;124;03m\"\"\"\u001b[39;00m\n\u001b[0;32m    118\u001b[0m processed_chunks \u001b[38;5;241m=\u001b[39m []\n\u001b[1;32m--> 119\u001b[0m \u001b[43m\u001b[49m\u001b[38;5;28;43;01mfor\u001b[39;49;00m\u001b[43m \u001b[49m\u001b[43mchunk\u001b[49m\u001b[43m \u001b[49m\u001b[38;5;129;43;01min\u001b[39;49;00m\u001b[43m \u001b[49m\u001b[43mread_file_in_chunks\u001b[49m\u001b[43m(\u001b[49m\u001b[43mfile_path\u001b[49m\u001b[43m)\u001b[49m\u001b[43m:\u001b[49m\n\u001b[0;32m    120\u001b[0m \u001b[43m    \u001b[49m\u001b[38;5;28;43;01mif\u001b[39;49;00m\u001b[43m \u001b[49m\u001b[38;5;124;43m\"\u001b[39;49m\u001b[38;5;124;43mcomments\u001b[39;49m\u001b[38;5;124;43m\"\u001b[39;49m\u001b[43m \u001b[49m\u001b[38;5;129;43;01min\u001b[39;49;00m\u001b[43m \u001b[49m\u001b[43mfile_path\u001b[49m\u001b[43m:\u001b[49m\n\u001b[0;32m    121\u001b[0m \u001b[43m        \u001b[49m\u001b[38;5;66;43;03m#print(\"Processing comments...\")\u001b[39;49;00m\n\u001b[0;32m    122\u001b[0m \u001b[43m        \u001b[49m\u001b[43mprocessed_chunk\u001b[49m\u001b[43m \u001b[49m\u001b[38;5;241;43m=\u001b[39;49m\u001b[43m \u001b[49m\u001b[43mprocess_chunk_comments\u001b[49m\u001b[43m(\u001b[49m\u001b[43mchunk\u001b[49m\u001b[43m)\u001b[49m\n",
      "File \u001b[1;32mc:\\Users\\elena\\OneDrive\\Dokumente\\Cognitive Science\\Bewerbungen\\8. Semester\\BA\\Dis-EmbeddingConnotations\\Code_BA\\src\\read_datasets.py:19\u001b[0m, in \u001b[0;36mread_file_in_chunks\u001b[1;34m(file_path, chunk_size)\u001b[0m\n\u001b[0;32m     17\u001b[0m chunk \u001b[38;5;241m=\u001b[39m []\n\u001b[0;32m     18\u001b[0m \u001b[38;5;28;01mfor\u001b[39;00m i, line \u001b[38;5;129;01min\u001b[39;00m \u001b[38;5;28menumerate\u001b[39m(file):\n\u001b[1;32m---> 19\u001b[0m     chunk\u001b[38;5;241m.\u001b[39mappend(\u001b[43mjson\u001b[49m\u001b[38;5;241;43m.\u001b[39;49m\u001b[43mloads\u001b[49m\u001b[43m(\u001b[49m\u001b[43mline\u001b[49m\u001b[38;5;241;43m.\u001b[39;49m\u001b[43mstrip\u001b[49m\u001b[43m(\u001b[49m\u001b[43m)\u001b[49m\u001b[43m)\u001b[49m)\n\u001b[0;32m     20\u001b[0m     \u001b[38;5;28;01mif\u001b[39;00m (i \u001b[38;5;241m+\u001b[39m \u001b[38;5;241m1\u001b[39m) \u001b[38;5;241m%\u001b[39m chunk_size \u001b[38;5;241m==\u001b[39m \u001b[38;5;241m0\u001b[39m:\n\u001b[0;32m     21\u001b[0m         \u001b[38;5;28;01myield\u001b[39;00m pd\u001b[38;5;241m.\u001b[39mDataFrame(chunk)\n",
      "File \u001b[1;32mc:\\Users\\elena\\anaconda3\\envs\\BA\\Lib\\json\\__init__.py:346\u001b[0m, in \u001b[0;36mloads\u001b[1;34m(s, cls, object_hook, parse_float, parse_int, parse_constant, object_pairs_hook, **kw)\u001b[0m\n\u001b[0;32m    341\u001b[0m     s \u001b[38;5;241m=\u001b[39m s\u001b[38;5;241m.\u001b[39mdecode(detect_encoding(s), \u001b[38;5;124m'\u001b[39m\u001b[38;5;124msurrogatepass\u001b[39m\u001b[38;5;124m'\u001b[39m)\n\u001b[0;32m    343\u001b[0m \u001b[38;5;28;01mif\u001b[39;00m (\u001b[38;5;28mcls\u001b[39m \u001b[38;5;129;01mis\u001b[39;00m \u001b[38;5;28;01mNone\u001b[39;00m \u001b[38;5;129;01mand\u001b[39;00m object_hook \u001b[38;5;129;01mis\u001b[39;00m \u001b[38;5;28;01mNone\u001b[39;00m \u001b[38;5;129;01mand\u001b[39;00m\n\u001b[0;32m    344\u001b[0m         parse_int \u001b[38;5;129;01mis\u001b[39;00m \u001b[38;5;28;01mNone\u001b[39;00m \u001b[38;5;129;01mand\u001b[39;00m parse_float \u001b[38;5;129;01mis\u001b[39;00m \u001b[38;5;28;01mNone\u001b[39;00m \u001b[38;5;129;01mand\u001b[39;00m\n\u001b[0;32m    345\u001b[0m         parse_constant \u001b[38;5;129;01mis\u001b[39;00m \u001b[38;5;28;01mNone\u001b[39;00m \u001b[38;5;129;01mand\u001b[39;00m object_pairs_hook \u001b[38;5;129;01mis\u001b[39;00m \u001b[38;5;28;01mNone\u001b[39;00m \u001b[38;5;129;01mand\u001b[39;00m \u001b[38;5;129;01mnot\u001b[39;00m kw):\n\u001b[1;32m--> 346\u001b[0m     \u001b[38;5;28;01mreturn\u001b[39;00m \u001b[43m_default_decoder\u001b[49m\u001b[38;5;241;43m.\u001b[39;49m\u001b[43mdecode\u001b[49m\u001b[43m(\u001b[49m\u001b[43ms\u001b[49m\u001b[43m)\u001b[49m\n\u001b[0;32m    347\u001b[0m \u001b[38;5;28;01mif\u001b[39;00m \u001b[38;5;28mcls\u001b[39m \u001b[38;5;129;01mis\u001b[39;00m \u001b[38;5;28;01mNone\u001b[39;00m:\n\u001b[0;32m    348\u001b[0m     \u001b[38;5;28mcls\u001b[39m \u001b[38;5;241m=\u001b[39m JSONDecoder\n",
      "File \u001b[1;32mc:\\Users\\elena\\anaconda3\\envs\\BA\\Lib\\json\\decoder.py:337\u001b[0m, in \u001b[0;36mJSONDecoder.decode\u001b[1;34m(self, s, _w)\u001b[0m\n\u001b[0;32m    332\u001b[0m \u001b[38;5;28;01mdef\u001b[39;00m \u001b[38;5;21mdecode\u001b[39m(\u001b[38;5;28mself\u001b[39m, s, _w\u001b[38;5;241m=\u001b[39mWHITESPACE\u001b[38;5;241m.\u001b[39mmatch):\n\u001b[0;32m    333\u001b[0m \u001b[38;5;250m    \u001b[39m\u001b[38;5;124;03m\"\"\"Return the Python representation of ``s`` (a ``str`` instance\u001b[39;00m\n\u001b[0;32m    334\u001b[0m \u001b[38;5;124;03m    containing a JSON document).\u001b[39;00m\n\u001b[0;32m    335\u001b[0m \n\u001b[0;32m    336\u001b[0m \u001b[38;5;124;03m    \"\"\"\u001b[39;00m\n\u001b[1;32m--> 337\u001b[0m     obj, end \u001b[38;5;241m=\u001b[39m \u001b[38;5;28;43mself\u001b[39;49m\u001b[38;5;241;43m.\u001b[39;49m\u001b[43mraw_decode\u001b[49m\u001b[43m(\u001b[49m\u001b[43ms\u001b[49m\u001b[43m,\u001b[49m\u001b[43m \u001b[49m\u001b[43midx\u001b[49m\u001b[38;5;241;43m=\u001b[39;49m\u001b[43m_w\u001b[49m\u001b[43m(\u001b[49m\u001b[43ms\u001b[49m\u001b[43m,\u001b[49m\u001b[43m \u001b[49m\u001b[38;5;241;43m0\u001b[39;49m\u001b[43m)\u001b[49m\u001b[38;5;241;43m.\u001b[39;49m\u001b[43mend\u001b[49m\u001b[43m(\u001b[49m\u001b[43m)\u001b[49m\u001b[43m)\u001b[49m\n\u001b[0;32m    338\u001b[0m     end \u001b[38;5;241m=\u001b[39m _w(s, end)\u001b[38;5;241m.\u001b[39mend()\n\u001b[0;32m    339\u001b[0m     \u001b[38;5;28;01mif\u001b[39;00m end \u001b[38;5;241m!=\u001b[39m \u001b[38;5;28mlen\u001b[39m(s):\n",
      "File \u001b[1;32mc:\\Users\\elena\\anaconda3\\envs\\BA\\Lib\\json\\decoder.py:355\u001b[0m, in \u001b[0;36mJSONDecoder.raw_decode\u001b[1;34m(self, s, idx)\u001b[0m\n\u001b[0;32m    353\u001b[0m     obj, end \u001b[38;5;241m=\u001b[39m \u001b[38;5;28mself\u001b[39m\u001b[38;5;241m.\u001b[39mscan_once(s, idx)\n\u001b[0;32m    354\u001b[0m \u001b[38;5;28;01mexcept\u001b[39;00m \u001b[38;5;167;01mStopIteration\u001b[39;00m \u001b[38;5;28;01mas\u001b[39;00m err:\n\u001b[1;32m--> 355\u001b[0m     \u001b[38;5;28;01mraise\u001b[39;00m JSONDecodeError(\u001b[38;5;124m\"\u001b[39m\u001b[38;5;124mExpecting value\u001b[39m\u001b[38;5;124m\"\u001b[39m, s, err\u001b[38;5;241m.\u001b[39mvalue) \u001b[38;5;28;01mfrom\u001b[39;00m \u001b[38;5;28;01mNone\u001b[39;00m\n\u001b[0;32m    356\u001b[0m \u001b[38;5;28;01mreturn\u001b[39;00m obj, end\n",
      "\u001b[1;31mJSONDecodeError\u001b[0m: Expecting value: line 1 column 1 (char 0)"
     ]
    }
   ],
   "source": [
    "\n",
    "# Create DataFrame for the second file\n",
    "df2 = rd.create_dataframe(file_path_1)\n"
   ]
  },
  {
   "cell_type": "code",
   "execution_count": 181,
   "metadata": {},
   "outputs": [
    {
     "data": {
      "text/html": [
       "<div>\n",
       "<style scoped>\n",
       "    .dataframe tbody tr th:only-of-type {\n",
       "        vertical-align: middle;\n",
       "    }\n",
       "\n",
       "    .dataframe tbody tr th {\n",
       "        vertical-align: top;\n",
       "    }\n",
       "\n",
       "    .dataframe thead th {\n",
       "        text-align: right;\n",
       "    }\n",
       "</style>\n",
       "<table border=\"1\" class=\"dataframe\">\n",
       "  <thead>\n",
       "    <tr style=\"text-align: right;\">\n",
       "      <th></th>\n",
       "      <th>created_utc</th>\n",
       "      <th>body</th>\n",
       "      <th>author</th>\n",
       "      <th>subreddit</th>\n",
       "      <th>link_id</th>\n",
       "      <th>parent_id</th>\n",
       "    </tr>\n",
       "  </thead>\n",
       "  <tbody>\n",
       "    <tr>\n",
       "      <th>0</th>\n",
       "      <td>1444827290</td>\n",
       "      <td>[**@prowhitesunite**](https://twitter.com/prow...</td>\n",
       "      <td>TweetPoster</td>\n",
       "      <td>altright</td>\n",
       "      <td>t3_3opu8x</td>\n",
       "      <td>t3_3opu8x</td>\n",
       "    </tr>\n",
       "    <tr>\n",
       "      <th>1</th>\n",
       "      <td>1447252889</td>\n",
       "      <td>MUSLIMS ARE THE REAL VICTIMS!</td>\n",
       "      <td>Barney102</td>\n",
       "      <td>altright</td>\n",
       "      <td>t3_3ser28</td>\n",
       "      <td>t3_3ser28</td>\n",
       "    </tr>\n",
       "    <tr>\n",
       "      <th>2</th>\n",
       "      <td>1448046669</td>\n",
       "      <td>&amp;gt;Canada figured out a long time ago that di...</td>\n",
       "      <td>RexAnglorumSaxonum</td>\n",
       "      <td>altright</td>\n",
       "      <td>t3_3tl6tt</td>\n",
       "      <td>t3_3tl6tt</td>\n",
       "    </tr>\n",
       "    <tr>\n",
       "      <th>3</th>\n",
       "      <td>1451907585</td>\n",
       "      <td>Well I disliked him to begin with and now he d...</td>\n",
       "      <td>reactionarypanda</td>\n",
       "      <td>altright</td>\n",
       "      <td>t3_3tl6tt</td>\n",
       "      <td>t3_3tl6tt</td>\n",
       "    </tr>\n",
       "    <tr>\n",
       "      <th>4</th>\n",
       "      <td>1452004288</td>\n",
       "      <td>Translation: \\n\\nIt is one of the most visible...</td>\n",
       "      <td>sa_dbf</td>\n",
       "      <td>altright</td>\n",
       "      <td>t3_3zkcvi</td>\n",
       "      <td>t3_3zkcvi</td>\n",
       "    </tr>\n",
       "  </tbody>\n",
       "</table>\n",
       "</div>"
      ],
      "text/plain": [
       "  created_utc                                               body  \\\n",
       "0  1444827290  [**@prowhitesunite**](https://twitter.com/prow...   \n",
       "1  1447252889                      MUSLIMS ARE THE REAL VICTIMS!   \n",
       "2  1448046669  &gt;Canada figured out a long time ago that di...   \n",
       "3  1451907585  Well I disliked him to begin with and now he d...   \n",
       "4  1452004288  Translation: \\n\\nIt is one of the most visible...   \n",
       "\n",
       "               author subreddit    link_id  parent_id  \n",
       "0         TweetPoster  altright  t3_3opu8x  t3_3opu8x  \n",
       "1           Barney102  altright  t3_3ser28  t3_3ser28  \n",
       "2  RexAnglorumSaxonum  altright  t3_3tl6tt  t3_3tl6tt  \n",
       "3    reactionarypanda  altright  t3_3tl6tt  t3_3tl6tt  \n",
       "4              sa_dbf  altright  t3_3zkcvi  t3_3zkcvi  "
      ]
     },
     "execution_count": 181,
     "metadata": {},
     "output_type": "execute_result"
    }
   ],
   "source": [
    "df2.head()"
   ]
  },
  {
   "cell_type": "code",
   "execution_count": 182,
   "metadata": {},
   "outputs": [
    {
     "name": "stdout",
     "output_type": "stream",
     "text": [
      "[**@prowhitesunite**](https://twitter.com/prowhitesunite):\n",
      "&gt;[2015-10-14 01:36:14 UTC](https://twitter.com/prowhitesunite/status/654108420350435329)\n",
      "\n",
      "&gt;[#demdebate](https://twitter.com/search?q=%23demdebate) \\*\\* [#whitegenocide](https://twitter.com/search?q=%23whitegenocide) \\*\\* [#cuckservative](https://twitter.com/search?q=%23cuckservative) [#antiwhite](https://twitter.com/search?q=%23antiwhite)  [#DebateWithBernie](https://twitter.com/search?q=%23DebateWithBernie) [*pic.twitter.com*](http://pbs.twimg.com/media/CRPcJGYWoAEZqKe.jpg) [^[Imgur]](http://i.imgur.com/xbelcOi.jpg)\n",
      "\n",
      "----\n",
      "\n",
      "[^[Mistake?]](/message/compose/?to=TweetPoster&amp;subject=Error%20Report&amp;message=/3opu8x%0A%0APlease leave above link unaltered.)\n",
      "[^[Suggestion]](/message/compose/?to=TweetPoster&amp;subject=Suggestion)\n",
      "[^[FAQ]](/r/TweetPoster/comments/13relk/)\n",
      "[^[Code]](https://github.com/buttscicles/TweetPoster)\n",
      "[^[Issues]](https://github.com/buttscicles/TweetPoster/issues)\n",
      "\n",
      "MUSLIMS ARE THE REAL VICTIMS!\n",
      "&gt;Canada figured out a long time ago that differences should be a source of strength, not a source of weakness and the more we can do to bring in diverse perspectives, diverse points of view, and indeed **to define a country not based on a national identity or ethnicity or language or background**, but on values shared by all people in our country, values of openness, respect, compassion, a willingness to work hard, the desire to be there for each other.\n",
      "\n",
      "Someone needs to tell him what a nation means.\n",
      "\n",
      "&gt;Nation, *noun* - A large aggregate of people united by common descent, history, culture, or language, inhabiting a particular country or territory.\n",
      "\n",
      "His language is actually traitorous.\n",
      "Well I disliked him to begin with and now he does this wow just wow \n",
      "Translation: \n",
      "\n",
      "It is one of the most visible parts of the city: Thousands of passengers go every day at Cologne Central Station from or to, it's never deserted - on the contrary: Not only commuters, but also city residents and visitors cavort around the train station in the shadow of the cathedral, the just minutes away from the pubs around the old town and the Rhine is. A central station which faced about to carnival tourists with a cheerful, boisterous Germany.\n",
      "\n",
      "Ironically, here has become the turn of the year a series of attacks occurred to women which has not been known in this form in Germany, but reminds one of scenes from the Egyptian Tahrir Square. Approximately 60 women reported in recent days to the police, because a mob of young men - the testimony ranging from 20 to 100 offenders - groped, threatened, insulted and robbed them.\n",
      "\n",
      "The police union is appalled\n",
      "\n",
      "According to the latest information provided by the police even a civilian police officer was caught in the pants. \"It is an intolerable state of affairs that the middle of the city such offenses are committed,\" said Cologne's police chief Wolfgang Albers on Monday. The police will now strengthen its presence.\n",
      "\n",
      "It was New Year's Eve on the station square about a thousand men gathered, which apparently came from the Arab and North African region. There are small groups were formed, the women surrounded, harassed and phones and wallets were robbed, it said. The men were intoxicated and totally uninhibited\n",
      "The Cologne police has set up an investigation team after the incidents. On Sunday, five men were in the vicinity of Cologne main station arrested, harassed women and travelers should have robbed. It is still unclear whether they have anything to do with the events of the New Year's Eve. \"This is a completely new dimension of violence. This is something we do not know so far,\" said the NRW state chairman of GdP, Arnold Plickert, Deutsche Presse-Agentur.\n",
      "\n",
      "\"Distraction for pickpocketing\"\n",
      "\n",
      "The Cologne local newspapers quoted women who had been victims of organized sexual assaults: \"I was seized under my dress and my buttocks,\" said a 22-year-old in the \"Kölner Stadt-Anzeiger\". \"When I try to defend myself, I almost dropped the stairs.\" The tabloid \"Express\" quoted another victim that was passed between the main station and the nearby disco \"Alter Wartesaal\" through an alley of young men: **\"Suddenly I felt a hand on my buttocks, then on my breasts, after that, I was groped everywhere\"** The assaults, wrote the Cologne police in the following days in press releases, were partly diversionary tactic for pickpocketing been.\n",
      "\n",
      "The Cologne police appeared from the crowd of assaults temporarily overrun. Officials realized according to the press office only gradually on New Year's, how many women have been victims of the men and that there had been apparently more or less to a group of perpetrators. Only days later, first allegedly involved in fact men were arrested.\n",
      "\n",
      "Witness: \"perpetrators of North African origin\"\n",
      "\n",
      "The events raise many questions: Why occurred the attacks on such a busy place as the main railway station? Why could not prevent it, even though the federal police, the security monitors at the station? How many perpetrators were involved - and above all: Who were they?\n",
      "Especially in the latter question, the investigators talked more rain in recent days. According coincident testimonies of affected women, the perpetrators \"of North African origin\" should be. Police said some of the perpetrators were known to the police and had repeatedly stolen for months partygoers of Cologne entertainment districts or robbed. The fact that this little group petty criminal unite as New Year's Eve, there have so far not given, a police spokeswoman.\n",
      "\n",
      "**It seems as if the investigators worry that incidents could Kölner fueling resentment towards refugees.** An investigator told the \"Kölner Stadt Anzeiger\" explicitly: \"They have nothing to do with the refugees from war zones, who come to Germany for months.\" From the environment of the North Rhine-Westphalian Ministry of the Interior on the other hand it is, some of the perpetrators had come about two years ago from North Africa to Germany as refugees, their integration is so far apparently not successful. This let arise a fear within the North Rhine-Westphalian law enforcement agencies that could spread or amplify fears of refugees in the population.\n",
      "\n",
      "NRW Interior Minister Ralf Jäger (SPD) had pointed out in the past that they had particular problems with traveling alone, younger men who come from North Africa. They were marked by years of flight and much oppression. Since some time is also the so-called \"antanzen\" a nuisance, in which an attempt is made to steal valuables.\n",
      "\n",
      "However, it was a \"new phenomenon\" that such offenses would suddenly connected with sexual assault, said a spokesman of the Ministry of the Interior NRW-on \"world\" request. \"We take this issue very seriously and will keep it in mind,\" said the ministry spokesman. We welcome, therefore, that the Cologne police would also indicate the approaching carnival days a stronger presence.\n",
      "\n",
      "**\"This is the new Cologne?\"**\n",
      "\n",
      "Feel many long confirmed in their fears, at least in the social networks. There suggested in recent days, the waves of outrage over the alleged \"fugitive offenders\" high \". Everyone knows the cultural and geographical origin of the perpetrators I feel increasingly alien in my country,\" wrote one Facebook user, which is located at sexual assault recalls on women in Munich and Stuttgart felt. The \"sexual self-determination of women\" stand by the flood of refugees in the balance, formulated another.\n",
      "\n",
      "On the Facebook page \"Kind-Werk Köln\", at the Cologne to exchange usually about events or for exchange actions that assaults had become known as the First. There described a group member on New Year's morning, as he and his girlfriend even the scenes have experienced: \"It will be said now, that is so not true, but I was standing right in the middle with my girlfriend's hand, which unfortunately did not prevent even their was arrested again under the dress. She's still totally exhausted because of these scenes and is afraid someday to go through something like this through alone. Is that what I have donated half the contents of my wardrobe? Is that the new Cologne Is that the new Germany? \"\n",
      "\n",
      "That no one was able to prevent or stop the attacks, but an excessive demand of the police seems to be responsible. The Cologne police states that the officials would have had difficulties in the New Year's Eve because of the tumult to take perpetrators. And the Federal Police, which is responsible for security at the main station, has apparently been struggling for months with staff shortages. This has also meant that around the main station of the drug trade flourishes like a long time.\n",
      "\n",
      "Mayor convenes security meeting Reker\n",
      "\n",
      "The North Rhine-Westphalian CDU parliamentary deputy Gregor Golland described the incidents as \"outrageous\" and demanded severe consequences. \"The men are the police apparently noticed more frequently in recent months. Anyone who so behaves in a country where he wants to live permanently, the consequences must get to feel and be deported immediately,\" said Golland. Police in Cologne was apparently \"completely overwhelmed\" because it had already convicted of New Year in the large-scale operation.\n",
      "Golland now wants to bring a small request to the NRW state government further details on the incidents in experience. The criticism of the CDU politician is also directed against the police leadership. \"Chief of Police Wolfgang Albers has the location in Cologne, definitely not under control. The city has unfortunately made Silvester again its reputation as one of the most dangerous cities in NRW all honor,\" said Golland.\n",
      "Even Cologne Mayor Henriette Reker has, according to the \"Kölner Stadt Anzeiger\" turned and convened a security meeting with the Chief Constable, Chief Superintendent, a representative of the Federal Police, the Cologne City Manager Guido Kahlen and the head of the order of the Office for the Tuesday morning. They want action agree that \"women in particular against this by protecting,\" it said. You may also see the video surveillance at the main station is to be expanded.\n",
      "As sad as this may be but that might have been not so unfortunate. \n",
      "\n",
      "We all know that politicians, males and females alike, cater to the women’s part of the voter’s block. Men don’t count, we all know that too. \n",
      "\n",
      "So maybe this will finally be a turning point. If it’s not too late anyway.\n",
      "This video is posted for descriptive, not prescriptive purposes - just in case there are unhinged people watching it.\n",
      "200% cuck free and super HIGH ENERGY, we are less than a day old and on our way to 100 subs. \n",
      "\n",
      " CUCKS NEED NOT APPLY STAY HOME AND PREP YOUR BULLS\n",
      "All his vids are worth watching!\n",
      "We need to coronate Donald I as the first monarch of America. In a few generations, after the hordes of monkey people have been driven from our land we can transition to Rothbardian ideas\n"
     ]
    }
   ],
   "source": [
    "for i in range(0, 10):\n",
    "    print(df2['body'][i])"
   ]
  },
  {
   "cell_type": "code",
   "execution_count": 183,
   "metadata": {},
   "outputs": [
    {
     "name": "stdout",
     "output_type": "stream",
     "text": [
      "I wonder if they were knowingly lying or if they were deceived. The 1965 immigration act has been a complete and unmitigated disaster for the European founding stock of this country.\n",
      "Neither am I, Grandpa Pat. Neither am I.\n",
      "Nation wreckers til the bitter end.\n",
      "[terrible president](http://i0.kym-cdn.com/photos/images/original/000/957/976/7e8.jpg)\n",
      "This was the death blow, the hit that broke the camel's back.\n",
      "I wonder if they were knowingly lying or if they were deceived. The 1965 immigration act has been a complete and unmitigated disaster for the European founding stock of this country.\n",
      "Neither am I, Grandpa Pat. Neither am I.\n",
      "Nation wreckers til the bitter end.\n",
      "[terrible president](http://i0.kym-cdn.com/photos/images/original/000/957/976/7e8.jpg)\n",
      "This was the death blow, the hit that broke the camel's back.\n",
      "\"The Rootless Age\" is a good description of who we are. So unattached in many ways, that we can't unite against the growing threats.\n",
      "If you're in a hurry skip to 5:30, or watch this short video instead:\n",
      "\n",
      "https://www.youtube.com/watch?v=yvhy6iybvXI\n",
      "\n",
      "Not sure what Cole's politics were exactly but it's an interesting set of paintings nonetheless.\n",
      "Trump's anti-globalism is good for America, but his isolationism spells doom for freedom in Asia and Europe. It sounds like he will retreat and surrender these regions to China and Russia. \n",
      "\n",
      "That's bad news for my country Australia who will be invaded by China in a heartbeat. But it's probably inevitable, with America in decline and China on the rise.\n",
      "\n",
      "www.cnn.com/2016/04/27/politics/donald-trump-foreign-policy-speech/\n",
      "\n",
      "&gt; I will never send our finest into battle unless necessary, and I do mean absolutely necessary.\n",
      "\n",
      "America will retreat as the global policeman, with China and Russia filling the power vacuum. It's understandable from an American perspective, but it's dark days ahead in a post-American world.\n",
      "I'm a bot, *bleep*, *bloop*. Someone has linked to this thread from another place on reddit:\n",
      "\n",
      "- [/r/altrightaus] [Will Trump surrender Asia (and Australia) to China?](https://np.reddit.com/r/AltRightAus/comments/4gujta/will_trump_surrender_asia_and_australia_to_china/)\n",
      "\n",
      "[](#footer)*^(If you follow any of the above links, please respect the rules of reddit and don't vote in the other threads.) ^\\([Info](/r/TotesMessenger) ^/ ^[Contact](/message/compose?to=/r/TotesMessenger))*\n",
      "\n",
      "[](#bot)\n",
      "https://twitter.com/Neoreact1ve\n",
      "\n",
      "https://twitter.com/adissidentright\n",
      "\n",
      "https://twitter.com/wrathofgnon\n"
     ]
    }
   ],
   "source": [
    "num = 0\n",
    "top = 50\n",
    "bottom = 45\n",
    "while(num < 15):\n",
    "    for i in range(bottom, top):\n",
    "        if df2[\"link_id\"][i] == df2[\"parent_id\"][i]:\n",
    "            print(df2[\"body\"][i])\n",
    "            top += 1\n",
    "            num += 1\n",
    "        else:\n",
    "            top += 1"
   ]
  },
  {
   "cell_type": "code",
   "execution_count": 156,
   "metadata": {},
   "outputs": [
    {
     "name": "stdout",
     "output_type": "stream",
     "text": [
      "310564\n"
     ]
    }
   ],
   "source": [
    "# count the number of comments where parent_id is equal to link_id\n",
    "num = 0\n",
    "for i in range(0, len(df2)):\n",
    "    if df2[\"link_id\"][i] == df2[\"parent_id\"][i]:\n",
    "        num += 1\n",
    "print(num)\n"
   ]
  },
  {
   "cell_type": "code",
   "execution_count": 157,
   "metadata": {},
   "outputs": [
    {
     "ename": "NameError",
     "evalue": "name 'df3' is not defined",
     "output_type": "error",
     "traceback": [
      "\u001b[1;31m---------------------------------------------------------------------------\u001b[0m",
      "\u001b[1;31mNameError\u001b[0m                                 Traceback (most recent call last)",
      "Cell \u001b[1;32mIn[157], line 1\u001b[0m\n\u001b[1;32m----> 1\u001b[0m \u001b[43mdf3\u001b[49m\u001b[38;5;241m.\u001b[39mhead()\n",
      "\u001b[1;31mNameError\u001b[0m: name 'df3' is not defined"
     ]
    }
   ],
   "source": [
    "df3.head()"
   ]
  },
  {
   "cell_type": "markdown",
   "metadata": {},
   "source": [
    "### Some dataset exploration:"
   ]
  },
  {
   "cell_type": "code",
   "execution_count": 158,
   "metadata": {},
   "outputs": [
    {
     "name": "stdout",
     "output_type": "stream",
     "text": [
      "Max length of comments: 11287\n",
      "Min length of comments: 3\n",
      "Duplicate comments count: 5434\n",
      "sneak peak into the duplicate comments: 2611                       And nothing of value was lost.\n",
      "2703    Congrats for reaching r/all/top/ (of the day, ...\n",
      "2792                                        BASH THE FASH\n",
      "3698    Your post was removed due to your account bein...\n",
      "3901                       And nothing of value was lost.\n",
      "4035    Congrats for reaching r/all/top/ (of the day, ...\n",
      "4582                                      Feels bad, man.\n",
      "4835    Your post was removed due to your account bein...\n",
      "5358                       And nothing of value was lost.\n",
      "5732    Your post was removed due to your account bein...\n",
      "Name: body, dtype: object\n",
      "Unique duplicates count: 2255\n",
      "count    310276.000000\n",
      "mean        144.236116\n",
      "std         260.762250\n",
      "min           3.000000\n",
      "25%          42.000000\n",
      "50%          81.000000\n",
      "75%         157.000000\n",
      "max       11287.000000\n",
      "Name: body, dtype: float64\n"
     ]
    },
    {
     "data": {
      "image/png": "[encoded data removed]",
      "text/plain": [
       "<Figure size 640x480 with 1 Axes>"
      ]
     },
     "metadata": {},
     "output_type": "display_data"
    },
    {
     "name": "stdout",
     "output_type": "stream",
     "text": [
      "Memory usage after processing: 71.3%\n"
     ]
    }
   ],
   "source": [
    "if not df2.empty:\n",
    "    df = df2\n",
    "    # drop comments with len < 2 \n",
    "    df = df[df['body'].str.len() > 2]\n",
    "\n",
    "    # Check for max and min length of comments\n",
    "    max_len = df['body'].str.len().max() if 'body' in df.columns else None\n",
    "    min_len = df['body'].str.len().min() if 'body' in df.columns else None\n",
    "\n",
    "    print(f\"Max length of comments: {max_len}\")\n",
    "    print(f\"Min length of comments: {min_len}\")\n",
    "\n",
    "    # Check for length distribution of comments\n",
    "    if 'body' in df.columns:\n",
    "\n",
    "        # check for duplicate comments\n",
    "        duplicate_comments_count = df.duplicated(subset=['body']).sum()\n",
    "        print(f\"Duplicate comments count: {duplicate_comments_count}\")\n",
    "        print(f\"sneak peak into the duplicate comments: {df[df.duplicated(subset=['body'])]['body'][:10]}\")\n",
    "        # how many unique values are in the set of duplicates\n",
    "        unique_duplicates_count = df[df.duplicated(subset=['body'])]['body'].nunique()\n",
    "        print(f\"Unique duplicates count: {unique_duplicates_count}\")\n",
    "\n",
    "        #df2['body'].str.len().hist()\n",
    "        \n",
    "        # give me a summary statistics of the length of the comments\n",
    "        print(df['body'].str.len().describe())\n",
    "\n",
    "        Q1 = df['body'].str.len().quantile(0.25)\n",
    "        Q3 = df['body'].str.len().quantile(0.75)\n",
    "        IQR = Q3 - Q1\n",
    "        upper_bound = Q3 + 1.5 * IQR\n",
    "\n",
    "        filtered_df = df[df['body'].str.len() <= upper_bound]\n",
    "        filtered_df['body'].str.len().hist()\n",
    "\n",
    "        # create a title for the histogram\n",
    "        plt.title('Distribution of the Length of comments')\n",
    "        # create a label for the x-axis\n",
    "        plt.xlabel('Length of comments')\n",
    "        # create a label for the y-axis\n",
    "        plt.ylabel('Frequency')\n",
    "\n",
    "        # Display the histogram\n",
    "        plt.show()\n",
    "else:\n",
    "    print(\"No data to analyze.\")\n",
    "\n",
    "print(f\"Memory usage after processing: {psutil.virtual_memory().percent}%\")"
   ]
  },
  {
   "cell_type": "code",
   "execution_count": 52,
   "metadata": {},
   "outputs": [
    {
     "data": {
      "text/html": [
       "<div>\n",
       "<style scoped>\n",
       "    .dataframe tbody tr th:only-of-type {\n",
       "        vertical-align: middle;\n",
       "    }\n",
       "\n",
       "    .dataframe tbody tr th {\n",
       "        vertical-align: top;\n",
       "    }\n",
       "\n",
       "    .dataframe thead th {\n",
       "        text-align: right;\n",
       "    }\n",
       "</style>\n",
       "<table border=\"1\" class=\"dataframe\">\n",
       "  <thead>\n",
       "    <tr style=\"text-align: right;\">\n",
       "      <th></th>\n",
       "      <th>created_utc</th>\n",
       "      <th>title</th>\n",
       "      <th>body</th>\n",
       "      <th>author</th>\n",
       "      <th>subreddit</th>\n",
       "      <th>is_self</th>\n",
       "      <th>id</th>\n",
       "    </tr>\n",
       "  </thead>\n",
       "  <tbody>\n",
       "    <tr>\n",
       "      <th>0</th>\n",
       "      <td>1417572354</td>\n",
       "      <td>antifeminist experiment</td>\n",
       "      <td>Hi!\\nI thought it would be interesting to have...</td>\n",
       "      <td>[deleted]</td>\n",
       "      <td>antifeminists</td>\n",
       "      <td>True</td>\n",
       "      <td>2o40i6</td>\n",
       "    </tr>\n",
       "    <tr>\n",
       "      <th>1</th>\n",
       "      <td>1418496647</td>\n",
       "      <td>How I advanced women yesterday</td>\n",
       "      <td>Yesterday, as part of my duties as a tech supp...</td>\n",
       "      <td>[deleted]</td>\n",
       "      <td>antifeminists</td>\n",
       "      <td>True</td>\n",
       "      <td>2p6wpf</td>\n",
       "    </tr>\n",
       "    <tr>\n",
       "      <th>2</th>\n",
       "      <td>1420494560</td>\n",
       "      <td>I Am Writing an Anti-Feminist Argumentative Es...</td>\n",
       "      <td>School is out, and I am so bored. Writing rese...</td>\n",
       "      <td>SackOfHellNo</td>\n",
       "      <td>antifeminists</td>\n",
       "      <td>True</td>\n",
       "      <td>2rfyxx</td>\n",
       "    </tr>\n",
       "    <tr>\n",
       "      <th>3</th>\n",
       "      <td>1429473417</td>\n",
       "      <td>Good job feminism. This shows one of the stupi...</td>\n",
       "      <td>\\n\\n\\nSource: https://www.google.no/search?sit...</td>\n",
       "      <td>[deleted]</td>\n",
       "      <td>antifeminists</td>\n",
       "      <td>True</td>\n",
       "      <td>335nfs</td>\n",
       "    </tr>\n",
       "    <tr>\n",
       "      <th>4</th>\n",
       "      <td>1429974239</td>\n",
       "      <td>The Matrix of Anti-Sexual Feminism</td>\n",
       "      <td>I'm sure this has been discussed somewhere in ...</td>\n",
       "      <td>[deleted]</td>\n",
       "      <td>antifeminists</td>\n",
       "      <td>True</td>\n",
       "      <td>33tob1</td>\n",
       "    </tr>\n",
       "  </tbody>\n",
       "</table>\n",
       "</div>"
      ],
      "text/plain": [
       "  created_utc                                              title  \\\n",
       "0  1417572354                            antifeminist experiment   \n",
       "1  1418496647                     How I advanced women yesterday   \n",
       "2  1420494560  I Am Writing an Anti-Feminist Argumentative Es...   \n",
       "3  1429473417  Good job feminism. This shows one of the stupi...   \n",
       "4  1429974239                 The Matrix of Anti-Sexual Feminism   \n",
       "\n",
       "                                                body        author  \\\n",
       "0  Hi!\\nI thought it would be interesting to have...     [deleted]   \n",
       "1  Yesterday, as part of my duties as a tech supp...     [deleted]   \n",
       "2  School is out, and I am so bored. Writing rese...  SackOfHellNo   \n",
       "3  \\n\\n\\nSource: https://www.google.no/search?sit...     [deleted]   \n",
       "4  I'm sure this has been discussed somewhere in ...     [deleted]   \n",
       "\n",
       "       subreddit  is_self      id  \n",
       "0  antifeminists     True  2o40i6  \n",
       "1  antifeminists     True  2p6wpf  \n",
       "2  antifeminists     True  2rfyxx  \n",
       "3  antifeminists     True  335nfs  \n",
       "4  antifeminists     True  33tob1  "
      ]
     },
     "execution_count": 52,
     "metadata": {},
     "output_type": "execute_result"
    }
   ],
   "source": [
    "\n",
    "df3.head()"
   ]
  },
  {
   "cell_type": "markdown",
   "metadata": {},
   "source": [
    "#### Looking into number & length of comments"
   ]
  },
  {
   "cell_type": "markdown",
   "metadata": {},
   "source": [
    "#### Time Distribution"
   ]
  },
  {
   "cell_type": "code",
   "execution_count": 38,
   "metadata": {},
   "outputs": [
    {
     "name": "stderr",
     "output_type": "stream",
     "text": [
      "C:\\Users\\elena\\AppData\\Local\\Temp\\ipykernel_2432\\1111451451.py:4: FutureWarning: The behavior of 'to_datetime' with 'unit' when parsing strings is deprecated. In a future version, strings will be parsed as datetime strings, matching the behavior without a 'unit'. To retain the old behavior, explicitly cast ints or floats to numeric type before calling to_datetime.\n",
      "  df['created_utc'] = pd.to_datetime(df['created_utc'], unit='s')\n"
     ]
    },
    {
     "name": "stdout",
     "output_type": "stream",
     "text": [
      "2009-02-06 12:13:52\n",
      "2022-12-31 23:31:27\n"
     ]
    },
    {
     "data": {
      "image/png": "[encoded data removed]",
      "text/plain": [
       "<Figure size 640x480 with 1 Axes>"
      ]
     },
     "metadata": {},
     "output_type": "display_data"
    }
   ],
   "source": [
    "# check for distribution of comments according to timestamp\n",
    "df = df2\n",
    "\n",
    "df['created_utc'] = pd.to_datetime(df['created_utc'], unit='s')\n",
    "df['created_utc'].hist()\n",
    "\n",
    "# create a title for the histogram\n",
    "plt.title('Distribution of comments according to timestamp')\n",
    "\n",
    "# return the newest and oldest comnments' timestamp and transform timestamp to datetime\n",
    "print(df['created_utc'].min())\n",
    "print(df['created_utc'].max())\n",
    "\n",
    "plt.show()"
   ]
  },
  {
   "cell_type": "markdown",
   "metadata": {},
   "source": [
    "#### Author Distribution"
   ]
  },
  {
   "cell_type": "code",
   "execution_count": 39,
   "metadata": {},
   "outputs": [
    {
     "data": {
      "text/plain": [
       "author\n",
       "[deleted]               10191\n",
       "demmian                  2747\n",
       "Yeahmaybeitsdetritus     1089\n",
       "homo_redditorensis       1008\n",
       "CheesyChips               599\n",
       "MistWeaver80              428\n",
       "ADCregg                   385\n",
       "saccharind                379\n",
       "FinickyPenance            366\n",
       "katashscar                314\n",
       "Name: count, dtype: int64"
      ]
     },
     "execution_count": 39,
     "metadata": {},
     "output_type": "execute_result"
    }
   ],
   "source": [
    "df = df2\n",
    "df_filtered = df[df['author'] != '[deleted]']\n",
    "# show summary statistics of max comments by one author, min comments by one author, and median, exclude author = [deleted]\n",
    "if df_filtered.empty:\n",
    "    df['author'].value_counts().describe()\n",
    "    # Show distribution of num of comments per author\n",
    "    df['author'].value_counts().hist()\n",
    "    plt.show()\n",
    "\n",
    "# get the top 10 authors with the most comments and their comment counts\n",
    "df['author'].value_counts().head(10)\n",
    "\n",
    "# check if the body of the author called \"[deleted]\" is the same as the author name or empty\n",
    "# df[df['author'] == '[deleted]']\n"
   ]
  },
  {
   "cell_type": "code",
   "execution_count": 40,
   "metadata": {},
   "outputs": [
    {
     "data": {
      "text/html": [
       "<div>\n",
       "<style scoped>\n",
       "    .dataframe tbody tr th:only-of-type {\n",
       "        vertical-align: middle;\n",
       "    }\n",
       "\n",
       "    .dataframe tbody tr th {\n",
       "        vertical-align: top;\n",
       "    }\n",
       "\n",
       "    .dataframe thead th {\n",
       "        text-align: right;\n",
       "    }\n",
       "</style>\n",
       "<table border=\"1\" class=\"dataframe\">\n",
       "  <thead>\n",
       "    <tr style=\"text-align: right;\">\n",
       "      <th></th>\n",
       "      <th>created_utc</th>\n",
       "      <th>name</th>\n",
       "      <th>body</th>\n",
       "      <th>subreddit</th>\n",
       "      <th>link_id</th>\n",
       "      <th>parent_id</th>\n",
       "    </tr>\n",
       "    <tr>\n",
       "      <th>author</th>\n",
       "      <th></th>\n",
       "      <th></th>\n",
       "      <th></th>\n",
       "      <th></th>\n",
       "      <th></th>\n",
       "      <th></th>\n",
       "    </tr>\n",
       "  </thead>\n",
       "  <tbody>\n",
       "    <tr>\n",
       "      <th>[deleted]</th>\n",
       "      <td>10191</td>\n",
       "      <td>8530</td>\n",
       "      <td>10191</td>\n",
       "      <td>10191</td>\n",
       "      <td>10191</td>\n",
       "      <td>10191</td>\n",
       "    </tr>\n",
       "    <tr>\n",
       "      <th>demmian</th>\n",
       "      <td>2747</td>\n",
       "      <td>2019</td>\n",
       "      <td>2747</td>\n",
       "      <td>2747</td>\n",
       "      <td>2747</td>\n",
       "      <td>2747</td>\n",
       "    </tr>\n",
       "    <tr>\n",
       "      <th>Yeahmaybeitsdetritus</th>\n",
       "      <td>1089</td>\n",
       "      <td>243</td>\n",
       "      <td>1089</td>\n",
       "      <td>1089</td>\n",
       "      <td>1089</td>\n",
       "      <td>1089</td>\n",
       "    </tr>\n",
       "    <tr>\n",
       "      <th>homo_redditorensis</th>\n",
       "      <td>1008</td>\n",
       "      <td>237</td>\n",
       "      <td>1008</td>\n",
       "      <td>1008</td>\n",
       "      <td>1008</td>\n",
       "      <td>1008</td>\n",
       "    </tr>\n",
       "    <tr>\n",
       "      <th>CheesyChips</th>\n",
       "      <td>599</td>\n",
       "      <td>6</td>\n",
       "      <td>599</td>\n",
       "      <td>599</td>\n",
       "      <td>599</td>\n",
       "      <td>599</td>\n",
       "    </tr>\n",
       "    <tr>\n",
       "      <th>...</th>\n",
       "      <td>...</td>\n",
       "      <td>...</td>\n",
       "      <td>...</td>\n",
       "      <td>...</td>\n",
       "      <td>...</td>\n",
       "      <td>...</td>\n",
       "    </tr>\n",
       "    <tr>\n",
       "      <th>SparklyTentacle</th>\n",
       "      <td>1</td>\n",
       "      <td>0</td>\n",
       "      <td>1</td>\n",
       "      <td>1</td>\n",
       "      <td>1</td>\n",
       "      <td>1</td>\n",
       "    </tr>\n",
       "    <tr>\n",
       "      <th>Sparkmetodeath</th>\n",
       "      <td>1</td>\n",
       "      <td>0</td>\n",
       "      <td>1</td>\n",
       "      <td>1</td>\n",
       "      <td>1</td>\n",
       "      <td>1</td>\n",
       "    </tr>\n",
       "    <tr>\n",
       "      <th>SparkyCynic</th>\n",
       "      <td>1</td>\n",
       "      <td>1</td>\n",
       "      <td>1</td>\n",
       "      <td>1</td>\n",
       "      <td>1</td>\n",
       "      <td>1</td>\n",
       "    </tr>\n",
       "    <tr>\n",
       "      <th>SparkyMcGhee</th>\n",
       "      <td>1</td>\n",
       "      <td>0</td>\n",
       "      <td>1</td>\n",
       "      <td>1</td>\n",
       "      <td>1</td>\n",
       "      <td>1</td>\n",
       "    </tr>\n",
       "    <tr>\n",
       "      <th>zzzzebras</th>\n",
       "      <td>1</td>\n",
       "      <td>0</td>\n",
       "      <td>1</td>\n",
       "      <td>1</td>\n",
       "      <td>1</td>\n",
       "      <td>1</td>\n",
       "    </tr>\n",
       "  </tbody>\n",
       "</table>\n",
       "<p>64317 rows × 6 columns</p>\n",
       "</div>"
      ],
      "text/plain": [
       "                      created_utc  name   body  subreddit  link_id  parent_id\n",
       "author                                                                       \n",
       "[deleted]                   10191  8530  10191      10191    10191      10191\n",
       "demmian                      2747  2019   2747       2747     2747       2747\n",
       "Yeahmaybeitsdetritus         1089   243   1089       1089     1089       1089\n",
       "homo_redditorensis           1008   237   1008       1008     1008       1008\n",
       "CheesyChips                   599     6    599        599      599        599\n",
       "...                           ...   ...    ...        ...      ...        ...\n",
       "SparklyTentacle                 1     0      1          1        1          1\n",
       "Sparkmetodeath                  1     0      1          1        1          1\n",
       "SparkyCynic                     1     1      1          1        1          1\n",
       "SparkyMcGhee                    1     0      1          1        1          1\n",
       "zzzzebras                       1     0      1          1        1          1\n",
       "\n",
       "[64317 rows x 6 columns]"
      ]
     },
     "execution_count": 40,
     "metadata": {},
     "output_type": "execute_result"
    }
   ],
   "source": [
    "# How many comments per author are in the dataset\n",
    "grouped = df2.groupby(\"author\").count().sort_values(\"body\", ascending=False)\n",
    "\n",
    "grouped_deleted = df2[(df2[\"author\"] == \"[deleted]\")]\n",
    "\n",
    "grouped"
   ]
  },
  {
   "cell_type": "code",
   "execution_count": null,
   "metadata": {},
   "outputs": [],
   "source": []
  }
 ],
 "metadata": {
  "kernelspec": {
   "display_name": "BA",
   "language": "python",
   "name": "python3"
  },
  "language_info": {
   "codemirror_mode": {
    "name": "ipython",
    "version": 3
   },
   "file_extension": ".py",
   "mimetype": "text/x-python",
   "name": "python",
   "nbconvert_exporter": "python",
   "pygments_lexer": "ipython3",
   "version": "3.12.3"
  }
 },
 "nbformat": 4,
 "nbformat_minor": 2
}

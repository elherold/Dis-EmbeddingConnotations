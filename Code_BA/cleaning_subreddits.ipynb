{
 "cells": [
  {
   "cell_type": "code",
   "execution_count": 1,
   "metadata": {},
   "outputs": [],
   "source": [
    "import pandas as pd\n",
    "import json\n",
    "import matplotlib.pyplot as plt\n",
    "import os\n",
    "import psutil\n",
    "import src.read_datasets as rd\n",
    "import importlib"
   ]
  },
  {
   "cell_type": "code",
   "execution_count": 18,
   "metadata": {},
   "outputs": [
    {
     "name": "stdout",
     "output_type": "stream",
     "text": [
      "File size: 106.16348266601562 MB\n"
     ]
    }
   ],
   "source": [
    "file_path_1 = 'data/data_raw/feminism/PinkPillFeminism_comments'\n",
    "file_size = os.path.getsize(file_path_1)\n",
    "print(f\"File size: {file_size / (1024 * 1024)} MB\")"
   ]
  },
  {
   "cell_type": "code",
   "execution_count": 19,
   "metadata": {},
   "outputs": [
    {
     "name": "stdout",
     "output_type": "stream",
     "text": [
      "Number of CPU cores (os module): 8\n",
      "Number of CPU cores (multiprocessing module): 8\n"
     ]
    }
   ],
   "source": [
    "import os\n",
    "import multiprocessing\n",
    "\n",
    "# Using os module\n",
    "num_cores_os = os.cpu_count()\n",
    "print(f\"Number of CPU cores (os module): {num_cores_os}\")\n",
    "\n",
    "# Using multiprocessing module\n",
    "num_cores_mp = multiprocessing.cpu_count()\n",
    "print(f\"Number of CPU cores (multiprocessing module): {num_cores_mp}\")"
   ]
  },
  {
   "cell_type": "code",
   "execution_count": 20,
   "metadata": {},
   "outputs": [
    {
     "name": "stdout",
     "output_type": "stream",
     "text": [
      "Processed chunk size: (3720, 6)\n",
      "Processed chunk size: (3375, 6)\n",
      "Processed chunk size: (3340, 6)\n",
      "Processed chunk size: (4253, 6)\n",
      "Processed chunk size: (3478, 6)\n",
      "Processed chunk size: (3376, 6)\n",
      "Processed chunk size: (3593, 6)\n",
      "Processed chunk size: (3439, 6)\n",
      "Processed chunk size: (1562, 6)\n",
      "Final DataFrame size: (30136, 6)\n"
     ]
    }
   ],
   "source": [
    "# Create DataFrame for the second file\n",
    "df2 = rd.create_dataframe(file_path_1)"
   ]
  },
  {
   "cell_type": "code",
   "execution_count": 11,
   "metadata": {},
   "outputs": [
    {
     "name": "stdout",
     "output_type": "stream",
     "text": [
      "38818\n"
     ]
    }
   ],
   "source": [
    "# drop all rows where lin_id != parent_id\n",
    "df2 = df2[df2['link_id'] == df2['parent_id']]\n",
    "# print len of dataframe\n",
    "print(len(df2))"
   ]
  },
  {
   "cell_type": "code",
   "execution_count": 13,
   "metadata": {},
   "outputs": [],
   "source": [
    "df2 = df2.drop_duplicates(subset='body', keep='first')"
   ]
  },
  {
   "cell_type": "code",
   "execution_count": 22,
   "metadata": {},
   "outputs": [],
   "source": [
    "df2.head()\n",
    "# drop all columns except body in a copy of df2 and save it to a file\n",
    "df3 = df2\n",
    "df3 = df3.drop(columns=['author', 'created_utc', 'link_id', 'subreddit'])"
   ]
  },
  {
   "cell_type": "code",
   "execution_count": 23,
   "metadata": {},
   "outputs": [],
   "source": [
    "# save to file\n",
    "df3.to_csv('data/data_raw/pre_reddits/pinkpillfeminism_comments.csv', index=False)\n"
   ]
  }
 ],
 "metadata": {
  "kernelspec": {
   "display_name": "BA",
   "language": "python",
   "name": "python3"
  },
  "language_info": {
   "codemirror_mode": {
    "name": "ipython",
    "version": 3
   },
   "file_extension": ".py",
   "mimetype": "text/x-python",
   "name": "python",
   "nbconvert_exporter": "python",
   "pygments_lexer": "ipython3",
   "version": "3.12.3"
  }
 },
 "nbformat": 4,
 "nbformat_minor": 2
}

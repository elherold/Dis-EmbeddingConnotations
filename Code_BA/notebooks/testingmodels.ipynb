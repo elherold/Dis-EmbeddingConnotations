{
 "cells": [
  {
   "cell_type": "code",
   "execution_count": 4,
   "metadata": {},
   "outputs": [],
   "source": [
    "import gensim\n",
    "import os"
   ]
  },
  {
   "cell_type": "code",
   "execution_count": 74,
   "metadata": {},
   "outputs": [
    {
     "name": "stdout",
     "output_type": "stream",
     "text": [
      "Current working directory: c:\\Users\\elena\\OneDrive\\Dokumente\\Cognitive Science\\8. Semester\\BA\\Code_BA\\notebooks\n",
      "Model loaded successfully\n"
     ]
    }
   ],
   "source": [
    "filepath1 = 'word2vec_processed_comments_spellchecker.pkl.model'\n",
    "filepath2 = 'word2vec_processed_comments.pkl.model'\n",
    "# Get the current working directory\n",
    "current_path = os.getcwd()\n",
    "print(f\"Current working directory: {current_path}\")\n",
    "\n",
    "# Construct the full file path to the model\n",
    "model_path1 = os.path.join(current_path, '../models', 'word2vec_processed_comments_spellchecker.pkl.model')\n",
    "model_path2 = os.path.join(current_path, '../models', 'word2vec_processed_comments.pkl.model')\n",
    "\n",
    "# Load the Word2Vec model from the file path\n",
    "model_spellchecker = gensim.models.Word2Vec.load(model_path1)\n",
    "model = gensim.models.Word2Vec.load(model_path2)\n",
    "\n",
    "# Verify the model has been loaded\n",
    "print(\"Model loaded successfully\")"
   ]
  },
  {
   "cell_type": "code",
   "execution_count": 94,
   "metadata": {},
   "outputs": [
    {
     "name": "stdout",
     "output_type": "stream",
     "text": [
      "Nearest neighbors to 'blm':\n",
      "Word: kkk, Similarity: 0.5835784673690796\n",
      "Word: lgbtq, Similarity: 0.5812483429908752\n",
      "Word: nazi, Similarity: 0.5676786303520203\n",
      "Word: jews, Similarity: 0.56499183177948\n",
      "Word: antifa, Similarity: 0.5558854341506958\n",
      "Word: racism, Similarity: 0.5418668389320374\n",
      "Word: poc, Similarity: 0.5375359654426575\n",
      "Word: democrats, Similarity: 0.5362949371337891\n",
      "Word: racist, Similarity: 0.5356184244155884\n",
      "Word: panther, Similarity: 0.5334710478782654\n",
      "Word: republicans, Similarity: 0.5282101631164551\n",
      "Word: famine, Similarity: 0.5231987833976746\n",
      "Word: christians, Similarity: 0.5145589113235474\n",
      "Word: libertarian, Similarity: 0.5050942301750183\n",
      "Word: nationalist, Similarity: 0.5048097372055054\n"
     ]
    }
   ],
   "source": [
    "# use the gensim library to print nearest neighbors to a target word\n",
    "target_word = 'blm'\n",
    "print(f\"Nearest neighbors to '{target_word}':\")\n",
    "for word, similarity in model.wv.most_similar(target_word, topn=15):\n",
    "    print(f\"Word: {word}, Similarity: {similarity}\")"
   ]
  },
  {
   "cell_type": "code",
   "execution_count": 95,
   "metadata": {},
   "outputs": [
    {
     "name": "stdout",
     "output_type": "stream",
     "text": [
      "Nearest neighbors to 'right':\n",
      "Word: opportunity, Similarity: 0.5018134117126465\n",
      "Word: autonomy, Similarity: 0.48226431012153625\n",
      "Word: draft, Similarity: 0.4627601206302643\n",
      "Word: freedom, Similarity: 0.45917728543281555\n",
      "Word: suffrage, Similarity: 0.4253515303134918\n",
      "Word: equality, Similarity: 0.4203164279460907\n",
      "Word: vote, Similarity: 0.4108610153198242\n",
      "Word: left, Similarity: 0.40694865584373474\n",
      "Word: responsibility, Similarity: 0.39597392082214355\n",
      "Word: conscription, Similarity: 0.3874781131744385\n",
      "Word: privilege, Similarity: 0.3645475506782532\n",
      "Word: treatment, Similarity: 0.35392171144485474\n",
      "Word: register, Similarity: 0.35113027691841125\n",
      "Word: equal, Similarity: 0.32304829359054565\n",
      "Word: trump, Similarity: 0.3172674775123596\n"
     ]
    }
   ],
   "source": [
    "# use the gensim library to print nearest neighbors to a target word\n",
    "target_word = 'right'\n",
    "print(f\"Nearest neighbors to '{target_word}':\")\n",
    "for word, similarity in model_spellchecker.wv.most_similar(target_word, topn=15\t):\n",
    "    print(f\"Word: {word}, Similarity: {similarity}\")"
   ]
  },
  {
   "cell_type": "code",
   "execution_count": null,
   "metadata": {},
   "outputs": [],
   "source": []
  }
 ],
 "metadata": {
  "kernelspec": {
   "display_name": "BA",
   "language": "python",
   "name": "python3"
  },
  "language_info": {
   "codemirror_mode": {
    "name": "ipython",
    "version": 3
   },
   "file_extension": ".py",
   "mimetype": "text/x-python",
   "name": "python",
   "nbconvert_exporter": "python",
   "pygments_lexer": "ipython3",
   "version": "3.12.3"
  }
 },
 "nbformat": 4,
 "nbformat_minor": 2
}
